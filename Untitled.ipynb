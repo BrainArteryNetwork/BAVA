{
 "cells": [
  {
   "cell_type": "code",
   "execution_count": 1,
   "id": "8ad400d6",
   "metadata": {},
   "outputs": [],
   "source": [
    "import streamlit as st\n",
    "import sys\n",
    "sys.path.append('\\\\home\\\\cherinlim\\\\SoftwareDev\\\\SoftwareDev\\\\bava')\n",
    "\n",
    "from bava.streamlit.streamlit_pandasai import page_pandasai\n",
    "from bava.streamlit.streamlit_visualization3d import page_viz3d"
   ]
  },
  {
   "cell_type": "code",
   "execution_count": 4,
   "id": "5928536c",
   "metadata": {},
   "outputs": [],
   "source": [
    "def home_page():\n",
    "    \"\"\"\n",
    "    Sample function for adding extra pages.\n",
    "    \"\"\"\n",
    "    st.title(\"Brain Artery Visualization and Analysis\")\n",
    "    st.write(\"Software and App Development\")\n",
    "\n",
    "    button1 = st.button(\"3D Visualization\")\n",
    "    button2 = st.button(\"BAVA AI\")\n",
    "\n",
    "    if button1:\n",
    "        page_viz3d()  # Call the page_viz3d function when button1 is clicked\n",
    "\n",
    "    if button2:\n",
    "        page_pandasai()  # Call the page_pandasai function when button2 is clicked\n",
    "\n",
    "if __name__ == \"__main__\":\n",
    "    home_page()"
   ]
  },
  {
   "cell_type": "code",
   "execution_count": 5,
   "id": "ac31e4a2",
   "metadata": {},
   "outputs": [
    {
     "ename": "AssertionError",
     "evalue": "init_sockets cannot be called twice!",
     "output_type": "error",
     "traceback": [
      "\u001b[0;31m---------------------------------------------------------------------------\u001b[0m",
      "\u001b[0;31mAssertionError\u001b[0m                            Traceback (most recent call last)",
      "File \u001b[0;32m~/miniconda3/lib/python3.11/site-packages/ipykernel_launcher.py:17\u001b[0m\n\u001b[1;32m     13\u001b[0m     \u001b[38;5;28;01mdel\u001b[39;00m sys\u001b[38;5;241m.\u001b[39mpath[\u001b[38;5;241m0\u001b[39m]\n\u001b[1;32m     15\u001b[0m \u001b[38;5;28;01mfrom\u001b[39;00m \u001b[38;5;21;01mipykernel\u001b[39;00m \u001b[38;5;28;01mimport\u001b[39;00m kernelapp \u001b[38;5;28;01mas\u001b[39;00m app\n\u001b[0;32m---> 17\u001b[0m app\u001b[38;5;241m.\u001b[39mlaunch_new_instance()\n",
      "File \u001b[0;32m~/miniconda3/lib/python3.11/site-packages/traitlets/config/application.py:991\u001b[0m, in \u001b[0;36mApplication.launch_instance\u001b[0;34m(cls, argv, **kwargs)\u001b[0m\n\u001b[1;32m    986\u001b[0m \u001b[38;5;250m\u001b[39m\u001b[38;5;124;03m\"\"\"Launch a global instance of this Application\u001b[39;00m\n\u001b[1;32m    987\u001b[0m \n\u001b[1;32m    988\u001b[0m \u001b[38;5;124;03mIf a global instance already exists, this reinitializes and starts it\u001b[39;00m\n\u001b[1;32m    989\u001b[0m \u001b[38;5;124;03m\"\"\"\u001b[39;00m\n\u001b[1;32m    990\u001b[0m app \u001b[38;5;241m=\u001b[39m \u001b[38;5;28mcls\u001b[39m\u001b[38;5;241m.\u001b[39minstance(\u001b[38;5;241m*\u001b[39m\u001b[38;5;241m*\u001b[39mkwargs)\n\u001b[0;32m--> 991\u001b[0m app\u001b[38;5;241m.\u001b[39minitialize(argv)\n\u001b[1;32m    992\u001b[0m app\u001b[38;5;241m.\u001b[39mstart()\n",
      "File \u001b[0;32m~/miniconda3/lib/python3.11/site-packages/traitlets/config/application.py:113\u001b[0m, in \u001b[0;36mcatch_config_error.<locals>.inner\u001b[0;34m(app, *args, **kwargs)\u001b[0m\n\u001b[1;32m    110\u001b[0m \u001b[38;5;129m@functools\u001b[39m\u001b[38;5;241m.\u001b[39mwraps(method)\n\u001b[1;32m    111\u001b[0m \u001b[38;5;28;01mdef\u001b[39;00m \u001b[38;5;21minner\u001b[39m(app, \u001b[38;5;241m*\u001b[39margs, \u001b[38;5;241m*\u001b[39m\u001b[38;5;241m*\u001b[39mkwargs):\n\u001b[1;32m    112\u001b[0m     \u001b[38;5;28;01mtry\u001b[39;00m:\n\u001b[0;32m--> 113\u001b[0m         \u001b[38;5;28;01mreturn\u001b[39;00m method(app, \u001b[38;5;241m*\u001b[39margs, \u001b[38;5;241m*\u001b[39m\u001b[38;5;241m*\u001b[39mkwargs)\n\u001b[1;32m    114\u001b[0m     \u001b[38;5;28;01mexcept\u001b[39;00m (TraitError, ArgumentError) \u001b[38;5;28;01mas\u001b[39;00m e:\n\u001b[1;32m    115\u001b[0m         app\u001b[38;5;241m.\u001b[39mlog\u001b[38;5;241m.\u001b[39mfatal(\u001b[38;5;124m\"\u001b[39m\u001b[38;5;124mBad config encountered during initialization: \u001b[39m\u001b[38;5;132;01m%s\u001b[39;00m\u001b[38;5;124m\"\u001b[39m, e)\n",
      "File \u001b[0;32m~/miniconda3/lib/python3.11/site-packages/ipykernel/kernelapp.py:689\u001b[0m, in \u001b[0;36mIPKernelApp.initialize\u001b[0;34m(self, argv)\u001b[0m\n\u001b[1;32m    687\u001b[0m \u001b[38;5;28mself\u001b[39m\u001b[38;5;241m.\u001b[39minit_connection_file()\n\u001b[1;32m    688\u001b[0m \u001b[38;5;28mself\u001b[39m\u001b[38;5;241m.\u001b[39minit_poller()\n\u001b[0;32m--> 689\u001b[0m \u001b[38;5;28mself\u001b[39m\u001b[38;5;241m.\u001b[39minit_sockets()\n\u001b[1;32m    690\u001b[0m \u001b[38;5;28mself\u001b[39m\u001b[38;5;241m.\u001b[39minit_heartbeat()\n\u001b[1;32m    691\u001b[0m \u001b[38;5;66;03m# writing/displaying connection info must be *after* init_sockets/heartbeat\u001b[39;00m\n",
      "File \u001b[0;32m~/miniconda3/lib/python3.11/site-packages/ipykernel/kernelapp.py:322\u001b[0m, in \u001b[0;36mIPKernelApp.init_sockets\u001b[0;34m(self)\u001b[0m\n\u001b[1;32m    320\u001b[0m \u001b[38;5;250m\u001b[39m\u001b[38;5;124;03m\"\"\"Create a context, a session, and the kernel sockets.\"\"\"\u001b[39;00m\n\u001b[1;32m    321\u001b[0m \u001b[38;5;28mself\u001b[39m\u001b[38;5;241m.\u001b[39mlog\u001b[38;5;241m.\u001b[39minfo(\u001b[38;5;124m\"\u001b[39m\u001b[38;5;124mStarting the kernel at pid: \u001b[39m\u001b[38;5;132;01m%i\u001b[39;00m\u001b[38;5;124m\"\u001b[39m, os\u001b[38;5;241m.\u001b[39mgetpid())\n\u001b[0;32m--> 322\u001b[0m \u001b[38;5;28;01massert\u001b[39;00m \u001b[38;5;28mself\u001b[39m\u001b[38;5;241m.\u001b[39mcontext \u001b[38;5;129;01mis\u001b[39;00m \u001b[38;5;28;01mNone\u001b[39;00m, \u001b[38;5;124m\"\u001b[39m\u001b[38;5;124minit_sockets cannot be called twice!\u001b[39m\u001b[38;5;124m\"\u001b[39m\n\u001b[1;32m    323\u001b[0m \u001b[38;5;28mself\u001b[39m\u001b[38;5;241m.\u001b[39mcontext \u001b[38;5;241m=\u001b[39m context \u001b[38;5;241m=\u001b[39m zmq\u001b[38;5;241m.\u001b[39mContext()\n\u001b[1;32m    324\u001b[0m atexit\u001b[38;5;241m.\u001b[39mregister(\u001b[38;5;28mself\u001b[39m\u001b[38;5;241m.\u001b[39mclose)\n",
      "\u001b[0;31mAssertionError\u001b[0m: init_sockets cannot be called twice!"
     ]
    }
   ],
   "source": [
    "%run -i /home/cherinlim/miniconda3/lib/python3.11/site-packages/ipykernel_launcher.py [ARGUMENTS]"
   ]
  },
  {
   "cell_type": "code",
   "execution_count": null,
   "id": "6b9a1618",
   "metadata": {},
   "outputs": [],
   "source": []
  }
 ],
 "metadata": {
  "kernelspec": {
   "display_name": "Python 3 (ipykernel)",
   "language": "python",
   "name": "python3"
  },
  "language_info": {
   "codemirror_mode": {
    "name": "ipython",
    "version": 3
   },
   "file_extension": ".py",
   "mimetype": "text/x-python",
   "name": "python",
   "nbconvert_exporter": "python",
   "pygments_lexer": "ipython3",
   "version": "3.11.4"
  }
 },
 "nbformat": 4,
 "nbformat_minor": 5
}
